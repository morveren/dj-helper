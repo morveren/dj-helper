{
 "cells": [
  {
   "cell_type": "raw",
   "id": "0938a259",
   "metadata": {
    "ExecuteTime": {
     "end_time": "2021-10-18T21:24:02.170458Z",
     "start_time": "2021-10-18T21:24:00.986102Z"
    }
   },
   "source": [
    "!pip install mutagen"
   ]
  },
  {
   "cell_type": "raw",
   "id": "03659314",
   "metadata": {
    "ExecuteTime": {
     "end_time": "2021-10-18T21:46:34.148969Z",
     "start_time": "2021-10-18T21:46:32.352925Z"
    }
   },
   "source": [
    "pip install tqdm"
   ]
  },
  {
   "cell_type": "code",
   "execution_count": 44,
   "id": "27d7d18b",
   "metadata": {
    "ExecuteTime": {
     "end_time": "2021-10-23T18:21:55.546930Z",
     "start_time": "2021-10-23T18:21:55.512845Z"
    }
   },
   "outputs": [
    {
     "ename": "AttributeError",
     "evalue": "module 'os' has no attribute 'splitext'",
     "output_type": "error",
     "traceback": [
      "\u001b[0;31m---------------------------------------------------------------------------\u001b[0m",
      "\u001b[0;31mAttributeError\u001b[0m                            Traceback (most recent call last)",
      "\u001b[0;32m/tmp/ipykernel_25/4045556747.py\u001b[0m in \u001b[0;36m<module>\u001b[0;34m\u001b[0m\n\u001b[0;32m----> 1\u001b[0;31m \u001b[0mos\u001b[0m\u001b[0;34m.\u001b[0m\u001b[0msplitext\u001b[0m\u001b[0;34m(\u001b[0m\u001b[0;34m\"test.txt\"\u001b[0m\u001b[0;34m)\u001b[0m\u001b[0;34m\u001b[0m\u001b[0;34m\u001b[0m\u001b[0m\n\u001b[0m",
      "\u001b[0;31mAttributeError\u001b[0m: module 'os' has no attribute 'splitext'"
     ]
    }
   ],
   "source": [
    "os.splitext(\"test.txt\")"
   ]
  },
  {
   "cell_type": "code",
   "execution_count": 47,
   "id": "11181963",
   "metadata": {
    "ExecuteTime": {
     "end_time": "2021-10-23T18:23:13.096785Z",
     "start_time": "2021-10-23T18:23:13.076333Z"
    }
   },
   "outputs": [],
   "source": [
    "import os\n",
    "\n",
    "from mutagen.flac import FLAC\n",
    "from mutagen.mp3 import MP3\n",
    "from mutagen.easyid3 import EasyID3\n",
    "from mutagen.wave import WAVE\n",
    "\n",
    "from shutil import copyfile,move\n",
    "\n",
    "\n",
    "from tqdm import tqdm\n",
    "\n",
    "from functools import partial\n",
    "\n",
    "def get_new_path(fpath,processor,ext=None):\n",
    "    if ext is None:\n",
    "        ext = os.path.splitext(fpath)[-1]\n",
    "    fields = [\"artist\",\"album\",\"title\"]\n",
    "    print(processor)\n",
    "    audio = processor(fpath)\n",
    "    song_attrs = {}\n",
    "    for field in fields:\n",
    "        field_val = f\"Unknown {field}\"\n",
    "        if not isinstance(audio,dict):\n",
    "            try:\n",
    "                val_poss = getattr(audio,field)\n",
    "                if val_poss is not None:\n",
    "                    field_val = getattr(audio,field)\n",
    "            except:\n",
    "                pass\n",
    "        elif field in audio:\n",
    "            field_vals = audio[field]\n",
    "            if len(field_vals)>0:\n",
    "                field_val = field_vals[0]\n",
    "\n",
    "        song_attrs[field] = field_val\n",
    "    if song_attrs[\"title\"] == f\"Unknown title\":\n",
    "        song_atts[\"title\"] = os.path.splitext(os.path.split(fpath)[-1])[0]\n",
    "\n",
    "    return os.path.join(\"/music_store/holding/soulseek\",song_attrs[\"artist\"],song_attrs[\"album\"],song_attrs[\"title\"]+ext)\n",
    "\n",
    "def main(_):\n",
    "    # get files\n",
    "    print(\"Getting files...\")\n",
    "    exts = {\".flac\":FLAC,\".mp3\":partial(MP3,ID3=EasyID3)}\n",
    "    fpaths = {ext:[] for ext in exts}\n",
    "    # get filepaths\n",
    "    for root, dirs, files in os.walk(\"/soulseek/\"):\n",
    "        for filename in files:\n",
    "            ext = None\n",
    "            for ext in exts:\n",
    "                if filename.endswith(ext):\n",
    "                    fpaths[ext].append(os.path.join(root,filename))\n",
    "                    break\n",
    "    print(\"Found files with the following extensions:\\n\",\"\\n\".join([ext + \":\" + str(len(fpaths[ext])) + '\\n' for ext in fpaths]))\n",
    "                    \n",
    "    print(\"Creating mappings to new destinations...\")\n",
    "    fpath_mappings = {}\n",
    "    for ext in fpaths:\n",
    "        for fpath in tqdm(fpaths[ext]):\n",
    "            fpath_mappings[fpath] = get_new_path(fpath,exts[ext])\n",
    "\n",
    "    print(\"Moving files over...\")\n",
    "    counter = 0\n",
    "    for fpath in tqdm(fpath_mappings):\n",
    "        dest = fpath_mappings[fpath]\n",
    "        # check haven't already imported\n",
    "        if not os.path.exists(dest):\n",
    "            folder,file = os.path.split(dest)\n",
    "            if not os.path.exists(folder):\n",
    "                os.makedirs(folder)\n",
    "            copyfile(fpath,dest)\n",
    "            counter +=1\n",
    "    \n",
    "    print(\"File import complete.\",f\"Imported {counter} out of {len(fpath_mappings)} files\")"
   ]
  },
  {
   "cell_type": "code",
   "execution_count": 106,
   "id": "b88a7771",
   "metadata": {
    "ExecuteTime": {
     "end_time": "2021-10-18T22:19:25.138305Z",
     "start_time": "2021-10-18T22:19:23.552178Z"
    }
   },
   "outputs": [
    {
     "name": "stdout",
     "output_type": "stream",
     "text": [
      "Getting files...\n",
      "Found files with the following extensions:\n",
      " .flac:1\n",
      "\n",
      ".mp3:1\n",
      "\n",
      "Creating mappings to new destinations...\n"
     ]
    },
    {
     "name": "stderr",
     "output_type": "stream",
     "text": [
      "100%|█████████████████| 1/1 [00:00<00:00, 159.58it/s]\n",
      "100%|█████████████████| 1/1 [00:00<00:00, 167.61it/s]\n"
     ]
    },
    {
     "name": "stdout",
     "output_type": "stream",
     "text": [
      "Moving files over...\n"
     ]
    },
    {
     "name": "stderr",
     "output_type": "stream",
     "text": [
      "100%|██████████████████| 2/2 [00:01<00:00,  1.29it/s]"
     ]
    },
    {
     "name": "stdout",
     "output_type": "stream",
     "text": [
      "File import complete. Imported 2 out of 2 files\n"
     ]
    },
    {
     "name": "stderr",
     "output_type": "stream",
     "text": [
      "\n"
     ]
    }
   ],
   "source": [
    "main(None)"
   ]
  },
  {
   "cell_type": "code",
   "execution_count": 31,
   "id": "8fa7835a",
   "metadata": {
    "ExecuteTime": {
     "end_time": "2021-10-23T18:15:13.958223Z",
     "start_time": "2021-10-23T18:15:13.932392Z"
    }
   },
   "outputs": [],
   "source": [
    "exts = {\".flac\":FLAC,\".mp3\":partial(MP3,ID3=EasyID3),\".wav\":TinyTag.get}\n",
    "fpaths = {ext:[] for ext in exts}\n",
    "# get filepaths\n",
    "for root, dirs, files in os.walk(\"/soulseek/\"):\n",
    "    for filename in files:\n",
    "        ext = None\n",
    "        for ext in exts:\n",
    "            if filename.endswith(ext):\n",
    "                fpaths[ext].append(os.path.join(root,filename))\n",
    "                break"
   ]
  },
  {
   "cell_type": "code",
   "execution_count": 48,
   "id": "867b29ea",
   "metadata": {
    "ExecuteTime": {
     "end_time": "2021-10-23T18:23:15.554044Z",
     "start_time": "2021-10-23T18:23:15.522279Z"
    }
   },
   "outputs": [
    {
     "name": "stderr",
     "output_type": "stream",
     "text": [
      "  0%|                                                                                                                                 | 0/1 [00:00<?, ?it/s]"
     ]
    },
    {
     "name": "stdout",
     "output_type": "stream",
     "text": [
      "<class 'mutagen.flac.FLAC'>\n"
     ]
    },
    {
     "name": "stderr",
     "output_type": "stream",
     "text": [
      "\n"
     ]
    },
    {
     "ename": "AttributeError",
     "evalue": "module 'os' has no attribute 'splitext'",
     "output_type": "error",
     "traceback": [
      "\u001b[0;31m---------------------------------------------------------------------------\u001b[0m",
      "\u001b[0;31mAttributeError\u001b[0m                            Traceback (most recent call last)",
      "\u001b[0;32m/tmp/ipykernel_25/2482939059.py\u001b[0m in \u001b[0;36m<module>\u001b[0;34m\u001b[0m\n\u001b[1;32m      2\u001b[0m \u001b[0;32mfor\u001b[0m \u001b[0mext\u001b[0m \u001b[0;32min\u001b[0m \u001b[0mfpaths\u001b[0m\u001b[0;34m:\u001b[0m\u001b[0;34m\u001b[0m\u001b[0;34m\u001b[0m\u001b[0m\n\u001b[1;32m      3\u001b[0m     \u001b[0;32mfor\u001b[0m \u001b[0mfpath\u001b[0m \u001b[0;32min\u001b[0m \u001b[0mtqdm\u001b[0m\u001b[0;34m(\u001b[0m\u001b[0mfpaths\u001b[0m\u001b[0;34m[\u001b[0m\u001b[0mext\u001b[0m\u001b[0;34m]\u001b[0m\u001b[0;34m)\u001b[0m\u001b[0;34m:\u001b[0m\u001b[0;34m\u001b[0m\u001b[0;34m\u001b[0m\u001b[0m\n\u001b[0;32m----> 4\u001b[0;31m         \u001b[0mfpath_mappings\u001b[0m\u001b[0;34m[\u001b[0m\u001b[0mfpath\u001b[0m\u001b[0;34m]\u001b[0m \u001b[0;34m=\u001b[0m \u001b[0mget_new_path\u001b[0m\u001b[0;34m(\u001b[0m\u001b[0mfpath\u001b[0m\u001b[0;34m,\u001b[0m\u001b[0mexts\u001b[0m\u001b[0;34m[\u001b[0m\u001b[0mext\u001b[0m\u001b[0;34m]\u001b[0m\u001b[0;34m)\u001b[0m\u001b[0;34m\u001b[0m\u001b[0;34m\u001b[0m\u001b[0m\n\u001b[0m",
      "\u001b[0;32m/tmp/ipykernel_25/220725535.py\u001b[0m in \u001b[0;36mget_new_path\u001b[0;34m(fpath, processor, ext)\u001b[0m\n\u001b[1;32m     36\u001b[0m         \u001b[0msong_attrs\u001b[0m\u001b[0;34m[\u001b[0m\u001b[0mfield\u001b[0m\u001b[0;34m]\u001b[0m \u001b[0;34m=\u001b[0m \u001b[0mfield_val\u001b[0m\u001b[0;34m\u001b[0m\u001b[0;34m\u001b[0m\u001b[0m\n\u001b[1;32m     37\u001b[0m     \u001b[0;32mif\u001b[0m \u001b[0msong_attrs\u001b[0m\u001b[0;34m[\u001b[0m\u001b[0;34m\"title\"\u001b[0m\u001b[0;34m]\u001b[0m \u001b[0;34m==\u001b[0m \u001b[0;34mf\"Unknown title\"\u001b[0m\u001b[0;34m:\u001b[0m\u001b[0;34m\u001b[0m\u001b[0;34m\u001b[0m\u001b[0m\n\u001b[0;32m---> 38\u001b[0;31m         \u001b[0msong_atts\u001b[0m\u001b[0;34m[\u001b[0m\u001b[0;34m\"title\"\u001b[0m\u001b[0;34m]\u001b[0m \u001b[0;34m=\u001b[0m \u001b[0mos\u001b[0m\u001b[0;34m.\u001b[0m\u001b[0msplitext\u001b[0m\u001b[0;34m(\u001b[0m\u001b[0mos\u001b[0m\u001b[0;34m.\u001b[0m\u001b[0mpath\u001b[0m\u001b[0;34m.\u001b[0m\u001b[0msplit\u001b[0m\u001b[0;34m(\u001b[0m\u001b[0mfpath\u001b[0m\u001b[0;34m)\u001b[0m\u001b[0;34m[\u001b[0m\u001b[0;34m-\u001b[0m\u001b[0;36m1\u001b[0m\u001b[0;34m]\u001b[0m\u001b[0;34m)\u001b[0m\u001b[0;34m[\u001b[0m\u001b[0;36m0\u001b[0m\u001b[0;34m]\u001b[0m\u001b[0;34m\u001b[0m\u001b[0;34m\u001b[0m\u001b[0m\n\u001b[0m\u001b[1;32m     39\u001b[0m \u001b[0;34m\u001b[0m\u001b[0m\n\u001b[1;32m     40\u001b[0m     \u001b[0;32mreturn\u001b[0m \u001b[0mos\u001b[0m\u001b[0;34m.\u001b[0m\u001b[0mpath\u001b[0m\u001b[0;34m.\u001b[0m\u001b[0mjoin\u001b[0m\u001b[0;34m(\u001b[0m\u001b[0;34m\"/music_store/holding/soulseek\"\u001b[0m\u001b[0;34m,\u001b[0m\u001b[0msong_attrs\u001b[0m\u001b[0;34m[\u001b[0m\u001b[0;34m\"artist\"\u001b[0m\u001b[0;34m]\u001b[0m\u001b[0;34m,\u001b[0m\u001b[0msong_attrs\u001b[0m\u001b[0;34m[\u001b[0m\u001b[0;34m\"album\"\u001b[0m\u001b[0;34m]\u001b[0m\u001b[0;34m,\u001b[0m\u001b[0msong_attrs\u001b[0m\u001b[0;34m[\u001b[0m\u001b[0;34m\"title\"\u001b[0m\u001b[0;34m]\u001b[0m\u001b[0;34m+\u001b[0m\u001b[0mext\u001b[0m\u001b[0;34m)\u001b[0m\u001b[0;34m\u001b[0m\u001b[0;34m\u001b[0m\u001b[0m\n",
      "\u001b[0;31mAttributeError\u001b[0m: module 'os' has no attribute 'splitext'"
     ]
    }
   ],
   "source": [
    "fpath_mappings = {}\n",
    "for ext in fpaths:\n",
    "    for fpath in tqdm(fpaths[ext]):\n",
    "        fpath_mappings[fpath] = get_new_path(fpath,exts[ext])"
   ]
  },
  {
   "cell_type": "code",
   "execution_count": 41,
   "id": "c64495db",
   "metadata": {
    "ExecuteTime": {
     "end_time": "2021-10-23T18:17:41.203657Z",
     "start_time": "2021-10-23T18:17:41.192653Z"
    }
   },
   "outputs": [
    {
     "data": {
      "text/plain": [
       "{\"/soulseek/cutpaperglue/SOPHIE - Oil of Every Pearl's Un-Insides/08 - Immaterial.flac\": '/music_store/holding/soulseek/Unknown artist/Unknown album/Unknown title.flac',\n",
       " '/soulseek/erickt/Mix/Deeperlove - Renegade Master (Volac Remix).wav': '/music_store/holding/soulseek/Deeperlove/Unknown album/Unknown title.wav'}"
      ]
     },
     "execution_count": 41,
     "metadata": {},
     "output_type": "execute_result"
    }
   ],
   "source": [
    "fpath_mappings"
   ]
  },
  {
   "cell_type": "code",
   "execution_count": 5,
   "id": "2c63ed97",
   "metadata": {
    "ExecuteTime": {
     "end_time": "2021-10-23T17:53:34.880020Z",
     "start_time": "2021-10-23T17:53:34.871568Z"
    }
   },
   "outputs": [
    {
     "data": {
      "text/plain": [
       "{\"/soulseek/cutpaperglue/SOPHIE - Oil of Every Pearl's Un-Insides/08 - Immaterial.flac\": \"/music_store/holding/soulseek/SOPHIE/Oil of Every Pearl's Un-Insides/Immaterial.flac\",\n",
       " '/soulseek/erickt/Mix/Deeperlove - Renegade Master (Volac Remix).wav': '/music_store/holding/soulseek/Unknown artist/Unknown album/Unknown title.wav'}"
      ]
     },
     "execution_count": 5,
     "metadata": {},
     "output_type": "execute_result"
    }
   ],
   "source": [
    "fpath_mappings"
   ]
  },
  {
   "cell_type": "code",
   "execution_count": 8,
   "id": "c80d7b05",
   "metadata": {
    "ExecuteTime": {
     "end_time": "2021-10-23T17:55:59.370079Z",
     "start_time": "2021-10-23T17:55:57.926334Z"
    },
    "scrolled": true
   },
   "outputs": [
    {
     "name": "stdout",
     "output_type": "stream",
     "text": [
      "Collecting tinytag\n",
      "  Downloading tinytag-1.6.0.tar.gz (34 kB)\n",
      "Building wheels for collected packages: tinytag\n",
      "  Building wheel for tinytag (setup.py) ... \u001b[?25ldone\n",
      "\u001b[?25h  Created wheel for tinytag: filename=tinytag-1.6.0-py3-none-any.whl size=32473 sha256=74097b5dc82ee3a92d30137c771329a6e3c2edc7baa8efc94c0eb08901db80f7\n",
      "  Stored in directory: /root/.cache/pip/wheels/65/21/c2/0c78b7b114e97307f6429f903ff8776aa200aa8eff9b1c5edc\n",
      "Successfully built tinytag\n",
      "Installing collected packages: tinytag\n",
      "Successfully installed tinytag-1.6.0\n",
      "\u001b[33mWARNING: Running pip as the 'root' user can result in broken permissions and conflicting behaviour with the system package manager. It is recommended to use a virtual environment instead: https://pip.pypa.io/warnings/venv\u001b[0m\n",
      "\u001b[33mWARNING: You are using pip version 21.2.4; however, version 21.3 is available.\n",
      "You should consider upgrading via the '/usr/local/bin/python -m pip install --upgrade pip' command.\u001b[0m\n",
      "Note: you may need to restart the kernel to use updated packages.\n"
     ]
    }
   ],
   "source": [
    "pip install tinytag"
   ]
  },
  {
   "cell_type": "code",
   "execution_count": 10,
   "id": "cf4f410e",
   "metadata": {
    "ExecuteTime": {
     "end_time": "2021-10-23T17:56:22.604338Z",
     "start_time": "2021-10-23T17:56:22.600791Z"
    }
   },
   "outputs": [],
   "source": [
    "from tinytag import TinyTag"
   ]
  },
  {
   "cell_type": "markdown",
   "id": "18e654d7",
   "metadata": {
    "ExecuteTime": {
     "end_time": "2021-10-23T17:53:50.362976Z",
     "start_time": "2021-10-23T17:53:50.354923Z"
    }
   },
   "source": [
    "test = WAVE(\"/soulseek/erickt/Mix/Deeperlove - Renegade Master (Volac Remix).wav\")"
   ]
  },
  {
   "cell_type": "code",
   "execution_count": 17,
   "id": "10a61ec0",
   "metadata": {
    "ExecuteTime": {
     "end_time": "2021-10-23T18:02:40.681008Z",
     "start_time": "2021-10-23T18:02:40.669830Z"
    }
   },
   "outputs": [
    {
     "data": {
      "text/plain": [
       "{}"
      ]
     },
     "execution_count": 17,
     "metadata": {},
     "output_type": "execute_result"
    }
   ],
   "source": [
    "test"
   ]
  },
  {
   "cell_type": "code",
   "execution_count": 15,
   "id": "3586ee62",
   "metadata": {
    "ExecuteTime": {
     "end_time": "2021-10-23T18:02:31.904212Z",
     "start_time": "2021-10-23T18:02:31.887758Z"
    }
   },
   "outputs": [],
   "source": [
    "tag = TinyTag.get(\"/soulseek/erickt/Mix/Deeperlove - Renegade Master (Volac Remix).wav\")"
   ]
  },
  {
   "cell_type": "code",
   "execution_count": 21,
   "id": "85c889d2",
   "metadata": {
    "ExecuteTime": {
     "end_time": "2021-10-23T18:09:03.536433Z",
     "start_time": "2021-10-23T18:09:03.531173Z"
    }
   },
   "outputs": [],
   "source": [
    "getattr(tag, \"album\")"
   ]
  },
  {
   "cell_type": "code",
   "execution_count": 7,
   "id": "6cef4fdd",
   "metadata": {
    "ExecuteTime": {
     "end_time": "2021-10-23T17:53:52.476297Z",
     "start_time": "2021-10-23T17:53:52.466906Z"
    }
   },
   "outputs": [
    {
     "data": {
      "text/plain": [
       "{}"
      ]
     },
     "execution_count": 7,
     "metadata": {},
     "output_type": "execute_result"
    }
   ],
   "source": [
    "test"
   ]
  },
  {
   "cell_type": "raw",
   "id": "63158478",
   "metadata": {
    "ExecuteTime": {
     "end_time": "2021-10-18T22:09:11.333199Z",
     "start_time": "2021-10-18T22:09:09.807318Z"
    }
   },
   "source": [
    "for fpath in tqdm(fpath_mappings):\n",
    "    dest = fpath_mappings[fpath]\n",
    "    # check haven't already imported\n",
    "    if not os.path.exists(dest):\n",
    "        folder,file = os.path.split(dest)\n",
    "        if not os.path.exists(folder):\n",
    "            os.makedirs(folder)\n",
    "        copyfile(fpath,dest)"
   ]
  },
  {
   "cell_type": "raw",
   "id": "ed3b4f37",
   "metadata": {},
   "source": [
    "from shutil import copyfile\n",
    "copyfile(src, dst)"
   ]
  },
  {
   "cell_type": "raw",
   "id": "11f60f7d",
   "metadata": {
    "ExecuteTime": {
     "end_time": "2021-10-18T21:48:22.583033Z",
     "start_time": "2021-10-18T21:48:22.567635Z"
    }
   },
   "source": [
    "fpath_mappings"
   ]
  },
  {
   "cell_type": "raw",
   "id": "848ab66b",
   "metadata": {
    "ExecuteTime": {
     "end_time": "2021-10-18T21:43:38.736646Z",
     "start_time": "2021-10-18T21:43:38.722913Z"
    }
   },
   "source": [
    "get_new_path(test,FLAC)"
   ]
  },
  {
   "cell_type": "raw",
   "id": "381c01a4",
   "metadata": {
    "ExecuteTime": {
     "end_time": "2021-10-18T21:39:54.400065Z",
     "start_time": "2021-10-18T21:39:54.389917Z"
    }
   },
   "source": [
    "fields = [\"artist\",\"album\",\"title\"]\n",
    "\n",
    "song_attrs = {}\n",
    "for field in fields:\n",
    "    field_val = f\"Unknown {field}\"\n",
    "    if field in audio:\n",
    "        field_vals = audio[field]\n",
    "        if len(field_vals)>0:\n",
    "            field_val = field_vals[0]\n",
    "    song_attrs[field] = field_val"
   ]
  },
  {
   "cell_type": "raw",
   "id": "2a86ba24",
   "metadata": {
    "ExecuteTime": {
     "end_time": "2021-10-18T21:41:10.990633Z",
     "start_time": "2021-10-18T21:41:10.984566Z"
    }
   },
   "source": [
    "new_fpath = os.path.join(\"/music_store/holding/soulseek\",song_attrs[\"artist\"],song_attrs[\"album\"],song_attrs[\"title\"],ext)"
   ]
  },
  {
   "cell_type": "raw",
   "id": "b41ea9a6",
   "metadata": {
    "ExecuteTime": {
     "end_time": "2021-10-18T21:41:12.056828Z",
     "start_time": "2021-10-18T21:41:12.050441Z"
    }
   },
   "source": [
    "new_fpath"
   ]
  }
 ],
 "metadata": {
  "kernelspec": {
   "display_name": "Python 3 (ipykernel)",
   "language": "python",
   "name": "python3"
  },
  "language_info": {
   "codemirror_mode": {
    "name": "ipython",
    "version": 3
   },
   "file_extension": ".py",
   "mimetype": "text/x-python",
   "name": "python",
   "nbconvert_exporter": "python",
   "pygments_lexer": "ipython3",
   "version": "3.8.12"
  },
  "toc": {
   "base_numbering": 1,
   "nav_menu": {},
   "number_sections": true,
   "sideBar": true,
   "skip_h1_title": false,
   "title_cell": "Table of Contents",
   "title_sidebar": "Contents",
   "toc_cell": false,
   "toc_position": {},
   "toc_section_display": true,
   "toc_window_display": false
  }
 },
 "nbformat": 4,
 "nbformat_minor": 5
}
